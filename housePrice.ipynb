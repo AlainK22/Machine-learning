{
  "nbformat": 4,
  "nbformat_minor": 0,
  "metadata": {
    "colab": {
      "name": "housePrice.ipynb",
      "provenance": [],
      "collapsed_sections": []
    },
    "kernelspec": {
      "name": "python3",
      "display_name": "Python 3"
    }
  },
  "cells": [
    {
      "cell_type": "code",
      "metadata": {
        "id": "rmsJmqhkZuM1",
        "colab_type": "code",
        "colab": {
          "base_uri": "https://localhost:8080/",
          "height": 128
        },
        "outputId": "49547259-0be0-42d1-fcc0-b6648d4b9efc"
      },
      "source": [
        "from google import colab\n",
        "colab.drive.mount('/content/gdrive')"
      ],
      "execution_count": null,
      "outputs": [
        {
          "output_type": "stream",
          "text": [
            "Go to this URL in a browser: https://accounts.google.com/o/oauth2/auth?client_id=947318989803-6bn6qk8qdgf4n4g3pfee6491hc0brc4i.apps.googleusercontent.com&redirect_uri=urn%3aietf%3awg%3aoauth%3a2.0%3aoob&scope=email%20https%3a%2f%2fwww.googleapis.com%2fauth%2fdocs.test%20https%3a%2f%2fwww.googleapis.com%2fauth%2fdrive%20https%3a%2f%2fwww.googleapis.com%2fauth%2fdrive.photos.readonly%20https%3a%2f%2fwww.googleapis.com%2fauth%2fpeopleapi.readonly&response_type=code\n",
            "\n",
            "Enter your authorization code:\n",
            "··········\n",
            "Mounted at /content/gdrive\n"
          ],
          "name": "stdout"
        }
      ]
    },
    {
      "cell_type": "code",
      "metadata": {
        "id": "lFwensAKvSAV",
        "colab_type": "code",
        "colab": {}
      },
      "source": [
        "import os \n",
        "\n",
        "path = '/content/gdrive/My Drive/colab/' # specify your directory where you want to create a folder for storing data.\n",
        "os.chdir(path) # change directory.\n",
        "\n",
        "new_folder_name='prices' # create a folder for storing data.\n",
        "\n",
        "if not os.path.exists(new_folder_name): # create a folder for storing data if it does not exist.\n",
        "    os.mkdir(new_folder_name) # make a directory\n",
        "\n",
        "os.chdir(path + '/' + new_folder_name) # change directory\n",
        "\n",
        "print(\"Current directory:\", os.getcwd())"
      ],
      "execution_count": null,
      "outputs": []
    },
    {
      "cell_type": "code",
      "metadata": {
        "id": "sbXPxHs5vhmi",
        "colab_type": "code",
        "colab": {
          "resources": {
            "http://localhost:8080/nbextensions/google.colab/files.js": {
              "data": "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",
              "ok": true,
              "headers": [
                [
                  "content-type",
                  "application/javascript"
                ]
              ],
              "status": 200,
              "status_text": ""
            }
          },
          "base_uri": "https://localhost:8080/",
          "height": 91
        },
        "outputId": "51d212e0-dbcc-42fc-ec6d-4f271076407a"
      },
      "source": [
        "from google.colab import files\n",
        "files.upload() # upload kaggle.json"
      ],
      "execution_count": null,
      "outputs": [
        {
          "output_type": "display_data",
          "data": {
            "text/html": [
              "\n",
              "     <input type=\"file\" id=\"files-a96a700a-f1df-4cb5-b709-179ba6308b20\" name=\"files[]\" multiple disabled\n",
              "        style=\"border:none\" />\n",
              "     <output id=\"result-a96a700a-f1df-4cb5-b709-179ba6308b20\">\n",
              "      Upload widget is only available when the cell has been executed in the\n",
              "      current browser session. Please rerun this cell to enable.\n",
              "      </output>\n",
              "      <script src=\"/nbextensions/google.colab/files.js\"></script> "
            ],
            "text/plain": [
              "<IPython.core.display.HTML object>"
            ]
          },
          "metadata": {
            "tags": []
          }
        },
        {
          "output_type": "stream",
          "text": [
            "Saving kaggle.json to kaggle.json\n"
          ],
          "name": "stdout"
        },
        {
          "output_type": "execute_result",
          "data": {
            "text/plain": [
              "{'kaggle.json': b'{\"username\":\"yvestuyishime\",\"key\":\"d6cbdc7647dc92f894eb1f128ab5c26d\"}'}"
            ]
          },
          "metadata": {
            "tags": []
          },
          "execution_count": 8
        }
      ]
    },
    {
      "cell_type": "code",
      "metadata": {
        "id": "zIb7_z9Ov6Qb",
        "colab_type": "code",
        "colab": {
          "base_uri": "https://localhost:8080/",
          "height": 235
        },
        "outputId": "09b44c82-f45d-4fdd-b826-ac1b4660bb7c"
      },
      "source": [
        "!pip install kaggle\n",
        "from googleapiclient.discovery import build\n",
        "import io, os\n",
        "from googleapiclient.http import MediaIoBaseDownload\n",
        "from google.colab import auth\n",
        "auth.authenticate_user()\n",
        "drive_service = build('drive', 'v3')\n",
        "results = drive_service.files().list(\n",
        "        q=\"name = 'kaggle (1).json'\", fields=\"files(id)\").execute()\n",
        "kaggle_api_key = results.get('files', [])\n",
        "filename = \"/root/.kaggle/kaggle.json\"  \n",
        "os.makedirs(os.path.dirname(filename), exist_ok=True)\n",
        "request = drive_service.files().get_media(fileId=kaggle_api_key[0]['id'])\n",
        "fh = io.FileIO(filename, 'wb')\n",
        "downloader = MediaIoBaseDownload(fh, request)\n",
        "done = False\n",
        "while done is False:\n",
        "    status, done = downloader.next_chunk()\n",
        "    print(\"Download %d%%.\" % int(status.progress() * 100))\n",
        "os.chmod(filename, 600)"
      ],
      "execution_count": null,
      "outputs": [
        {
          "output_type": "stream",
          "text": [
            "Requirement already satisfied: kaggle in /usr/local/lib/python3.6/dist-packages (1.5.6)\n",
            "Requirement already satisfied: python-slugify in /usr/local/lib/python3.6/dist-packages (from kaggle) (4.0.1)\n",
            "Requirement already satisfied: requests in /usr/local/lib/python3.6/dist-packages (from kaggle) (2.23.0)\n",
            "Requirement already satisfied: six>=1.10 in /usr/local/lib/python3.6/dist-packages (from kaggle) (1.15.0)\n",
            "Requirement already satisfied: certifi in /usr/local/lib/python3.6/dist-packages (from kaggle) (2020.6.20)\n",
            "Requirement already satisfied: urllib3<1.25,>=1.21.1 in /usr/local/lib/python3.6/dist-packages (from kaggle) (1.24.3)\n",
            "Requirement already satisfied: tqdm in /usr/local/lib/python3.6/dist-packages (from kaggle) (4.41.1)\n",
            "Requirement already satisfied: python-dateutil in /usr/local/lib/python3.6/dist-packages (from kaggle) (2.8.1)\n",
            "Requirement already satisfied: text-unidecode>=1.3 in /usr/local/lib/python3.6/dist-packages (from python-slugify->kaggle) (1.3)\n",
            "Requirement already satisfied: chardet<4,>=3.0.2 in /usr/local/lib/python3.6/dist-packages (from requests->kaggle) (3.0.4)\n",
            "Requirement already satisfied: idna<3,>=2.5 in /usr/local/lib/python3.6/dist-packages (from requests->kaggle) (2.10)\n",
            "Download 100%.\n"
          ],
          "name": "stdout"
        }
      ]
    },
    {
      "cell_type": "code",
      "metadata": {
        "id": "b_e9l3wMwBxb",
        "colab_type": "code",
        "colab": {
          "base_uri": "https://localhost:8080/",
          "height": 72
        },
        "outputId": "f365be9e-a5f0-413d-8145-fcb7522a5178"
      },
      "source": [
        "!kaggle datasets download camnugent/california-housing-prices"
      ],
      "execution_count": null,
      "outputs": [
        {
          "output_type": "stream",
          "text": [
            "Downloading california-housing-prices.zip to /content\n",
            "\r  0% 0.00/400k [00:00<?, ?B/s]\n",
            "\r100% 400k/400k [00:00<00:00, 54.4MB/s]\n"
          ],
          "name": "stdout"
        }
      ]
    },
    {
      "cell_type": "code",
      "metadata": {
        "id": "MuZf9useyeqM",
        "colab_type": "code",
        "colab": {}
      },
      "source": [
        "import glob\n",
        "import zipfile\n",
        "zipfiles = glob.glob(os.getcwd() + '/*.zip')\n",
        "zipfiles\n",
        "\n",
        "\n",
        "local_zip =zipfiles[0] # specify where train.zip is\n",
        "zip_ref = zipfile.ZipFile(local_zip, 'r')  # create a ZipFile object\n",
        "zip_ref.extractall() # create a folder in the current directory and get all data\n",
        "zip_ref.close() # close"
      ],
      "execution_count": null,
      "outputs": []
    },
    {
      "cell_type": "code",
      "metadata": {
        "id": "8QtwPGvdxuYY",
        "colab_type": "code",
        "colab": {
          "base_uri": "https://localhost:8080/",
          "height": 35
        },
        "outputId": "18e995d1-8bfa-4fc0-a4ee-cafa878365a9"
      },
      "source": [
        "!ls '/content/gdrive/My Drive/colab/prices'\n",
        "base_folder = '/content/gdrive/My Drive/colab/prices'"
      ],
      "execution_count": null,
      "outputs": [
        {
          "output_type": "stream",
          "text": [
            " california-housing-prices.zip\t housing.csv  'kaggle (1).json'   kaggle.json\n"
          ],
          "name": "stdout"
        }
      ]
    },
    {
      "cell_type": "code",
      "metadata": {
        "id": "j_godMHiykbh",
        "colab_type": "code",
        "colab": {}
      },
      "source": [
        "# Imported Libraries\n",
        "\n",
        "import numpy as np # linear algebra\n",
        "import pandas as pd # data processing, CSV file I/O (e.g. pd.read_csv)\n",
        "import matplotlib.pyplot as plt\n",
        "import seaborn as sns\n",
        "from sklearn.manifold import TSNE\n",
        "import matplotlib.patches as mpatches\n",
        "import time"
      ],
      "execution_count": null,
      "outputs": []
    },
    {
      "cell_type": "code",
      "metadata": {
        "id": "yeFfgoIgy15I",
        "colab_type": "code",
        "colab": {
          "base_uri": "https://localhost:8080/",
          "height": 218
        },
        "outputId": "367727de-171a-4d3c-82d5-c7db933d38fb"
      },
      "source": [
        "df = pd.read_csv(base_folder+'/housing.csv')\n",
        "df.head()"
      ],
      "execution_count": null,
      "outputs": [
        {
          "output_type": "execute_result",
          "data": {
            "text/html": [
              "<div>\n",
              "<style scoped>\n",
              "    .dataframe tbody tr th:only-of-type {\n",
              "        vertical-align: middle;\n",
              "    }\n",
              "\n",
              "    .dataframe tbody tr th {\n",
              "        vertical-align: top;\n",
              "    }\n",
              "\n",
              "    .dataframe thead th {\n",
              "        text-align: right;\n",
              "    }\n",
              "</style>\n",
              "<table border=\"1\" class=\"dataframe\">\n",
              "  <thead>\n",
              "    <tr style=\"text-align: right;\">\n",
              "      <th></th>\n",
              "      <th>longitude</th>\n",
              "      <th>latitude</th>\n",
              "      <th>housing_median_age</th>\n",
              "      <th>total_rooms</th>\n",
              "      <th>total_bedrooms</th>\n",
              "      <th>population</th>\n",
              "      <th>households</th>\n",
              "      <th>median_income</th>\n",
              "      <th>median_house_value</th>\n",
              "      <th>ocean_proximity</th>\n",
              "    </tr>\n",
              "  </thead>\n",
              "  <tbody>\n",
              "    <tr>\n",
              "      <th>0</th>\n",
              "      <td>-122.23</td>\n",
              "      <td>37.88</td>\n",
              "      <td>41.0</td>\n",
              "      <td>880.0</td>\n",
              "      <td>129.0</td>\n",
              "      <td>322.0</td>\n",
              "      <td>126.0</td>\n",
              "      <td>8.3252</td>\n",
              "      <td>452600.0</td>\n",
              "      <td>NEAR BAY</td>\n",
              "    </tr>\n",
              "    <tr>\n",
              "      <th>1</th>\n",
              "      <td>-122.22</td>\n",
              "      <td>37.86</td>\n",
              "      <td>21.0</td>\n",
              "      <td>7099.0</td>\n",
              "      <td>1106.0</td>\n",
              "      <td>2401.0</td>\n",
              "      <td>1138.0</td>\n",
              "      <td>8.3014</td>\n",
              "      <td>358500.0</td>\n",
              "      <td>NEAR BAY</td>\n",
              "    </tr>\n",
              "    <tr>\n",
              "      <th>2</th>\n",
              "      <td>-122.24</td>\n",
              "      <td>37.85</td>\n",
              "      <td>52.0</td>\n",
              "      <td>1467.0</td>\n",
              "      <td>190.0</td>\n",
              "      <td>496.0</td>\n",
              "      <td>177.0</td>\n",
              "      <td>7.2574</td>\n",
              "      <td>352100.0</td>\n",
              "      <td>NEAR BAY</td>\n",
              "    </tr>\n",
              "    <tr>\n",
              "      <th>3</th>\n",
              "      <td>-122.25</td>\n",
              "      <td>37.85</td>\n",
              "      <td>52.0</td>\n",
              "      <td>1274.0</td>\n",
              "      <td>235.0</td>\n",
              "      <td>558.0</td>\n",
              "      <td>219.0</td>\n",
              "      <td>5.6431</td>\n",
              "      <td>341300.0</td>\n",
              "      <td>NEAR BAY</td>\n",
              "    </tr>\n",
              "    <tr>\n",
              "      <th>4</th>\n",
              "      <td>-122.25</td>\n",
              "      <td>37.85</td>\n",
              "      <td>52.0</td>\n",
              "      <td>1627.0</td>\n",
              "      <td>280.0</td>\n",
              "      <td>565.0</td>\n",
              "      <td>259.0</td>\n",
              "      <td>3.8462</td>\n",
              "      <td>342200.0</td>\n",
              "      <td>NEAR BAY</td>\n",
              "    </tr>\n",
              "  </tbody>\n",
              "</table>\n",
              "</div>"
            ],
            "text/plain": [
              "   longitude  latitude  ...  median_house_value  ocean_proximity\n",
              "0    -122.23     37.88  ...            452600.0         NEAR BAY\n",
              "1    -122.22     37.86  ...            358500.0         NEAR BAY\n",
              "2    -122.24     37.85  ...            352100.0         NEAR BAY\n",
              "3    -122.25     37.85  ...            341300.0         NEAR BAY\n",
              "4    -122.25     37.85  ...            342200.0         NEAR BAY\n",
              "\n",
              "[5 rows x 10 columns]"
            ]
          },
          "metadata": {
            "tags": []
          },
          "execution_count": 15
        }
      ]
    },
    {
      "cell_type": "markdown",
      "metadata": {
        "id": "EsT9WdnqBDfj",
        "colab_type": "text"
      },
      "source": [
        "**Exploring the data**"
      ]
    },
    {
      "cell_type": "code",
      "metadata": {
        "id": "SRm6wHD2y9Ni",
        "colab_type": "code",
        "colab": {
          "base_uri": "https://localhost:8080/",
          "height": 256
        },
        "outputId": "7a155ee7-1efe-4b8f-a6d2-0f62f7ae23f7"
      },
      "source": [
        "# plot the houses' location\n",
        "ax1 = df.plot.scatter(x='longitude',y='latitude',c = 'median_house_value',colormap='viridis')"
      ],
      "execution_count": null,
      "outputs": [
        {
          "output_type": "display_data",
          "data": {
            "image/png": "[encoded data removed]",
            "text/plain": [
              "<Figure size 432x288 with 2 Axes>"
            ]
          },
          "metadata": {
            "tags": [],
            "needs_background": "light"
          }
        }
      ]
    },
    {
      "cell_type": "code",
      "metadata": {
        "id": "jflCt4aB8LvX",
        "colab_type": "code",
        "colab": {}
      },
      "source": [
        "# plot ocean proximity\n",
        "df2['ocean_proximity'].value_counts().plot(kind='bar')"
      ],
      "execution_count": null,
      "outputs": []
    },
    {
      "cell_type": "code",
      "metadata": {
        "id": "nU4d2WHbINbI",
        "colab_type": "code",
        "colab": {}
      },
      "source": [
        "from sklearn import preprocessing\n",
        "\n",
        "le = preprocessing.OneHotEncoder()\n",
        "op= pd.get_dummies(df.ocean_proximity, prefix='proximity')\n",
        "df= pd.concat([df,op],1)\n"
      ],
      "execution_count": null,
      "outputs": []
    },
    {
      "cell_type": "code",
      "metadata": {
        "id": "TGpQWPKvpgJ8",
        "colab_type": "code",
        "colab": {
          "base_uri": "https://localhost:8080/",
          "height": 101
        },
        "outputId": "fe495ccb-9d49-4919-c21f-a9d92ba8c1e2"
      },
      "source": [
        "df.columns"
      ],
      "execution_count": null,
      "outputs": [
        {
          "output_type": "execute_result",
          "data": {
            "text/plain": [
              "Index(['longitude', 'latitude', 'housing_median_age', 'total_rooms',\n",
              "       'total_bedrooms', 'population', 'households', 'median_income',\n",
              "       'median_house_value', 'ocean_proximity', 'proximity_0', 'proximity_1',\n",
              "       'proximity_2', 'proximity_3', 'proximity_4'],\n",
              "      dtype='object')"
            ]
          },
          "metadata": {
            "tags": []
          },
          "execution_count": 23
        }
      ]
    },
    {
      "cell_type": "code",
      "metadata": {
        "id": "a1VuNr4iC_ne",
        "colab_type": "code",
        "colab": {
          "base_uri": "https://localhost:8080/",
          "height": 181
        },
        "outputId": "2e4d9975-95b0-447b-96f8-e260b78e2596"
      },
      "source": [
        "#Exercise- Explore the other variables by plotting them\n",
        "df['median_house_value'].describe()"
      ],
      "execution_count": null,
      "outputs": [
        {
          "output_type": "execute_result",
          "data": {
            "text/plain": [
              "count     20640.000000\n",
              "mean     206855.816909\n",
              "std      115395.615874\n",
              "min       14999.000000\n",
              "25%      119600.000000\n",
              "50%      179700.000000\n",
              "75%      264725.000000\n",
              "max      500001.000000\n",
              "Name: median_house_value, dtype: float64"
            ]
          },
          "metadata": {
            "tags": []
          },
          "execution_count": 28
        }
      ]
    },
    {
      "cell_type": "code",
      "metadata": {
        "id": "_TKyutzOBhyE",
        "colab_type": "code",
        "colab": {
          "base_uri": "https://localhost:8080/",
          "height": 269
        },
        "outputId": "f3daa755-5235-4e53-be21-0ffc3549d7db"
      },
      "source": [
        "#looking at correlation of the different variables\n",
        "corr = df.corr()\n",
        "corr.style.background_gradient(cmap='coolwarm')"
      ],
      "execution_count": null,
      "outputs": [
        {
          "output_type": "execute_result",
          "data": {
            "text/html": [
              "<style  type=\"text/css\" >\n",
              "    #T_08346ebe_e227_11ea_ad7b_0242ac1c0002row0_col0 {\n",
              "            background-color:  #b40426;\n",
              "            color:  #f1f1f1;\n",
              "        }    #T_08346ebe_e227_11ea_ad7b_0242ac1c0002row0_col1 {\n",
              "            background-color:  #3b4cc0;\n",
              "            color:  #f1f1f1;\n",
              "        }    #T_08346ebe_e227_11ea_ad7b_0242ac1c0002row0_col2 {\n",
              "            background-color:  #7699f6;\n",
              "            color:  #000000;\n",
              "        }    #T_08346ebe_e227_11ea_ad7b_0242ac1c0002row0_col3 {\n",
              "            background-color:  #9ebeff;\n",
              "            color:  #000000;\n",
              "        }    #T_08346ebe_e227_11ea_ad7b_0242ac1c0002row0_col4 {\n",
              "            background-color:  #9dbdff;\n",
              "            color:  #000000;\n",
              "        }    #T_08346ebe_e227_11ea_ad7b_0242ac1c0002row0_col5 {\n",
              "            background-color:  #a1c0ff;\n",
              "            color:  #000000;\n",
              "        }    #T_08346ebe_e227_11ea_ad7b_0242ac1c0002row0_col6 {\n",
              "            background-color:  #96b7ff;\n",
              "            color:  #000000;\n",
              "        }    #T_08346ebe_e227_11ea_ad7b_0242ac1c0002row0_col7 {\n",
              "            background-color:  #5673e0;\n",
              "            color:  #000000;\n",
              "        }    #T_08346ebe_e227_11ea_ad7b_0242ac1c0002row0_col8 {\n",
              "            background-color:  #5470de;\n",
              "            color:  #000000;\n",
              "        }    #T_08346ebe_e227_11ea_ad7b_0242ac1c0002row0_col9 {\n",
              "            background-color:  #3b4cc0;\n",
              "            color:  #f1f1f1;\n",
              "        }    #T_08346ebe_e227_11ea_ad7b_0242ac1c0002row1_col0 {\n",
              "            background-color:  #3b4cc0;\n",
              "            color:  #f1f1f1;\n",
              "        }    #T_08346ebe_e227_11ea_ad7b_0242ac1c0002row1_col1 {\n",
              "            background-color:  #b40426;\n",
              "            color:  #f1f1f1;\n",
              "        }    #T_08346ebe_e227_11ea_ad7b_0242ac1c0002row1_col2 {\n",
              "            background-color:  #96b7ff;\n",
              "            color:  #000000;\n",
              "        }    #T_08346ebe_e227_11ea_ad7b_0242ac1c0002row1_col3 {\n",
              "            background-color:  #89acfd;\n",
              "            color:  #000000;\n",
              "        }    #T_08346ebe_e227_11ea_ad7b_0242ac1c0002row1_col4 {\n",
              "            background-color:  #799cf8;\n",
              "            color:  #000000;\n",
              "        }    #T_08346ebe_e227_11ea_ad7b_0242ac1c0002row1_col5 {\n",
              "            background-color:  #688aef;\n",
              "            color:  #000000;\n",
              "        }    #T_08346ebe_e227_11ea_ad7b_0242ac1c0002row1_col6 {\n",
              "            background-color:  #7396f5;\n",
              "            color:  #000000;\n",
              "        }    #T_08346ebe_e227_11ea_ad7b_0242ac1c0002row1_col7 {\n",
              "            background-color:  #445acc;\n",
              "            color:  #f1f1f1;\n",
              "        }    #T_08346ebe_e227_11ea_ad7b_0242ac1c0002row1_col8 {\n",
              "            background-color:  #3b4cc0;\n",
              "            color:  #f1f1f1;\n",
              "        }    #T_08346ebe_e227_11ea_ad7b_0242ac1c0002row1_col9 {\n",
              "            background-color:  #bad0f8;\n",
              "            color:  #000000;\n",
              "        }    #T_08346ebe_e227_11ea_ad7b_0242ac1c0002row2_col0 {\n",
              "            background-color:  #c7d7f0;\n",
              "            color:  #000000;\n",
              "        }    #T_08346ebe_e227_11ea_ad7b_0242ac1c0002row2_col1 {\n",
              "            background-color:  #d9dce1;\n",
              "            color:  #000000;\n",
              "        }    #T_08346ebe_e227_11ea_ad7b_0242ac1c0002row2_col2 {\n",
              "            background-color:  #b40426;\n",
              "            color:  #f1f1f1;\n",
              "        }    #T_08346ebe_e227_11ea_ad7b_0242ac1c0002row2_col3 {\n",
              "            background-color:  #3b4cc0;\n",
              "            color:  #f1f1f1;\n",
              "        }    #T_08346ebe_e227_11ea_ad7b_0242ac1c0002row2_col4 {\n",
              "            background-color:  #3b4cc0;\n",
              "            color:  #f1f1f1;\n",
              "        }    #T_08346ebe_e227_11ea_ad7b_0242ac1c0002row2_col5 {\n",
              "            background-color:  #3b4cc0;\n",
              "            color:  #f1f1f1;\n",
              "        }    #T_08346ebe_e227_11ea_ad7b_0242ac1c0002row2_col6 {\n",
              "            background-color:  #3b4cc0;\n",
              "            color:  #f1f1f1;\n",
              "        }    #T_08346ebe_e227_11ea_ad7b_0242ac1c0002row2_col7 {\n",
              "            background-color:  #3b4cc0;\n",
              "            color:  #f1f1f1;\n",
              "        }    #T_08346ebe_e227_11ea_ad7b_0242ac1c0002row2_col8 {\n",
              "            background-color:  #81a4fb;\n",
              "            color:  #000000;\n",
              "        }    #T_08346ebe_e227_11ea_ad7b_0242ac1c0002row2_col9 {\n",
              "            background-color:  #a2c1ff;\n",
              "            color:  #000000;\n",
              "        }    #T_08346ebe_e227_11ea_ad7b_0242ac1c0002row3_col0 {\n",
              "            background-color:  #dddcdc;\n",
              "            color:  #000000;\n",
              "        }    #T_08346ebe_e227_11ea_ad7b_0242ac1c0002row3_col1 {\n",
              "            background-color:  #d3dbe7;\n",
              "            color:  #000000;\n",
              "        }    #T_08346ebe_e227_11ea_ad7b_0242ac1c0002row3_col2 {\n",
              "            background-color:  #3b4cc0;\n",
              "            color:  #f1f1f1;\n",
              "        }    #T_08346ebe_e227_11ea_ad7b_0242ac1c0002row3_col3 {\n",
              "            background-color:  #b40426;\n",
              "            color:  #f1f1f1;\n",
              "        }    #T_08346ebe_e227_11ea_ad7b_0242ac1c0002row3_col4 {\n",
              "            background-color:  #c73635;\n",
              "            color:  #f1f1f1;\n",
              "        }    #T_08346ebe_e227_11ea_ad7b_0242ac1c0002row3_col5 {\n",
              "            background-color:  #d95847;\n",
              "            color:  #000000;\n",
              "        }    #T_08346ebe_e227_11ea_ad7b_0242ac1c0002row3_col6 {\n",
              "            background-color:  #cb3e38;\n",
              "            color:  #f1f1f1;\n",
              "        }    #T_08346ebe_e227_11ea_ad7b_0242ac1c0002row3_col7 {\n",
              "            background-color:  #98b9ff;\n",
              "            color:  #000000;\n",
              "        }    #T_08346ebe_e227_11ea_ad7b_0242ac1c0002row3_col8 {\n",
              "            background-color:  #8badfd;\n",
              "            color:  #000000;\n",
              "        }    #T_08346ebe_e227_11ea_ad7b_0242ac1c0002row3_col9 {\n",
              "            background-color:  #80a3fa;\n",
              "            color:  #000000;\n",
              "        }    #T_08346ebe_e227_11ea_ad7b_0242ac1c0002row4_col0 {\n",
              "            background-color:  #e1dad6;\n",
              "            color:  #000000;\n",
              "        }    #T_08346ebe_e227_11ea_ad7b_0242ac1c0002row4_col1 {\n",
              "            background-color:  #cedaeb;\n",
              "            color:  #000000;\n",
              "        }    #T_08346ebe_e227_11ea_ad7b_0242ac1c0002row4_col2 {\n",
              "            background-color:  #4358cb;\n",
              "            color:  #f1f1f1;\n",
              "        }    #T_08346ebe_e227_11ea_ad7b_0242ac1c0002row4_col3 {\n",
              "            background-color:  #c73635;\n",
              "            color:  #f1f1f1;\n",
              "        }    #T_08346ebe_e227_11ea_ad7b_0242ac1c0002row4_col4 {\n",
              "            background-color:  #b40426;\n",
              "            color:  #f1f1f1;\n",
              "        }    #T_08346ebe_e227_11ea_ad7b_0242ac1c0002row4_col5 {\n",
              "            background-color:  #d55042;\n",
              "            color:  #000000;\n",
              "        }    #T_08346ebe_e227_11ea_ad7b_0242ac1c0002row4_col6 {\n",
              "            background-color:  #b8122a;\n",
              "            color:  #f1f1f1;\n",
              "        }    #T_08346ebe_e227_11ea_ad7b_0242ac1c0002row4_col7 {\n",
              "            background-color:  #5977e3;\n",
              "            color:  #000000;\n",
              "        }    #T_08346ebe_e227_11ea_ad7b_0242ac1c0002row4_col8 {\n",
              "            background-color:  #7093f3;\n",
              "            color:  #000000;\n",
              "        }    #T_08346ebe_e227_11ea_ad7b_0242ac1c0002row4_col9 {\n",
              "            background-color:  #80a3fa;\n",
              "            color:  #000000;\n",
              "        }    #T_08346ebe_e227_11ea_ad7b_0242ac1c0002row5_col0 {\n",
              "            background-color:  #e5d8d1;\n",
              "            color:  #000000;\n",
              "        }    #T_08346ebe_e227_11ea_ad7b_0242ac1c0002row5_col1 {\n",
              "            background-color:  #c7d7f0;\n",
              "            color:  #000000;\n",
              "        }    #T_08346ebe_e227_11ea_ad7b_0242ac1c0002row5_col2 {\n",
              "            background-color:  #4961d2;\n",
              "            color:  #f1f1f1;\n",
              "        }    #T_08346ebe_e227_11ea_ad7b_0242ac1c0002row5_col3 {\n",
              "            background-color:  #d75445;\n",
              "            color:  #000000;\n",
              "        }    #T_08346ebe_e227_11ea_ad7b_0242ac1c0002row5_col4 {\n",
              "            background-color:  #d44e41;\n",
              "            color:  #000000;\n",
              "        }    #T_08346ebe_e227_11ea_ad7b_0242ac1c0002row5_col5 {\n",
              "            background-color:  #b40426;\n",
              "            color:  #f1f1f1;\n",
              "        }    #T_08346ebe_e227_11ea_ad7b_0242ac1c0002row5_col6 {\n",
              "            background-color:  #cd423b;\n",
              "            color:  #f1f1f1;\n",
              "        }    #T_08346ebe_e227_11ea_ad7b_0242ac1c0002row5_col7 {\n",
              "            background-color:  #5d7ce6;\n",
              "            color:  #000000;\n",
              "        }    #T_08346ebe_e227_11ea_ad7b_0242ac1c0002row5_col8 {\n",
              "            background-color:  #5a78e4;\n",
              "            color:  #000000;\n",
              "        }    #T_08346ebe_e227_11ea_ad7b_0242ac1c0002row5_col9 {\n",
              "            background-color:  #7093f3;\n",
              "            color:  #000000;\n",
              "        }    #T_08346ebe_e227_11ea_ad7b_0242ac1c0002row6_col0 {\n",
              "            background-color:  #dfdbd9;\n",
              "            color:  #000000;\n",
              "        }    #T_08346ebe_e227_11ea_ad7b_0242ac1c0002row6_col1 {\n",
              "            background-color:  #cdd9ec;\n",
              "            color:  #000000;\n",
              "        }    #T_08346ebe_e227_11ea_ad7b_0242ac1c0002row6_col2 {\n",
              "            background-color:  #465ecf;\n",
              "            color:  #f1f1f1;\n",
              "        }    #T_08346ebe_e227_11ea_ad7b_0242ac1c0002row6_col3 {\n",
              "            background-color:  #ca3b37;\n",
              "            color:  #f1f1f1;\n",
              "        }    #T_08346ebe_e227_11ea_ad7b_0242ac1c0002row6_col4 {\n",
              "            background-color:  #b8122a;\n",
              "            color:  #f1f1f1;\n",
              "        }    #T_08346ebe_e227_11ea_ad7b_0242ac1c0002row6_col5 {\n",
              "            background-color:  #cd423b;\n",
              "            color:  #f1f1f1;\n",
              "        }    #T_08346ebe_e227_11ea_ad7b_0242ac1c0002row6_col6 {\n",
              "            background-color:  #b40426;\n",
              "            color:  #f1f1f1;\n",
              "        }    #T_08346ebe_e227_11ea_ad7b_0242ac1c0002row6_col7 {\n",
              "            background-color:  #5f7fe8;\n",
              "            color:  #000000;\n",
              "        }    #T_08346ebe_e227_11ea_ad7b_0242ac1c0002row6_col8 {\n",
              "            background-color:  #7597f6;\n",
              "            color:  #000000;\n",
              "        }    #T_08346ebe_e227_11ea_ad7b_0242ac1c0002row6_col9 {\n",
              "            background-color:  #7ea1fa;\n",
              "            color:  #000000;\n",
              "        }    #T_08346ebe_e227_11ea_ad7b_0242ac1c0002row7_col0 {\n",
              "            background-color:  #d5dbe5;\n",
              "            color:  #000000;\n",
              "        }    #T_08346ebe_e227_11ea_ad7b_0242ac1c0002row7_col1 {\n",
              "            background-color:  #ccd9ed;\n",
              "            color:  #000000;\n",
              "        }    #T_08346ebe_e227_11ea_ad7b_0242ac1c0002row7_col2 {\n",
              "            background-color:  #7396f5;\n",
              "            color:  #000000;\n",
              "        }    #T_08346ebe_e227_11ea_ad7b_0242ac1c0002row7_col3 {\n",
              "            background-color:  #c4d5f3;\n",
              "            color:  #000000;\n",
              "        }    #T_08346ebe_e227_11ea_ad7b_0242ac1c0002row7_col4 {\n",
              "            background-color:  #88abfd;\n",
              "            color:  #000000;\n",
              "        }    #T_08346ebe_e227_11ea_ad7b_0242ac1c0002row7_col5 {\n",
              "            background-color:  #86a9fc;\n",
              "            color:  #000000;\n",
              "        }    #T_08346ebe_e227_11ea_ad7b_0242ac1c0002row7_col6 {\n",
              "            background-color:  #8badfd;\n",
              "            color:  #000000;\n",
              "        }    #T_08346ebe_e227_11ea_ad7b_0242ac1c0002row7_col7 {\n",
              "            background-color:  #b40426;\n",
              "            color:  #f1f1f1;\n",
              "        }    #T_08346ebe_e227_11ea_ad7b_0242ac1c0002row7_col8 {\n",
              "            background-color:  #f6a283;\n",
              "            color:  #000000;\n",
              "        }    #T_08346ebe_e227_11ea_ad7b_0242ac1c0002row7_col9 {\n",
              "            background-color:  #80a3fa;\n",
              "            color:  #000000;\n",
              "        }    #T_08346ebe_e227_11ea_ad7b_0242ac1c0002row8_col0 {\n",
              "            background-color:  #d1dae9;\n",
              "            color:  #000000;\n",
              "        }    #T_08346ebe_e227_11ea_ad7b_0242ac1c0002row8_col1 {\n",
              "            background-color:  #c1d4f4;\n",
              "            color:  #000000;\n",
              "        }    #T_08346ebe_e227_11ea_ad7b_0242ac1c0002row8_col2 {\n",
              "            background-color:  #adc9fd;\n",
              "            color:  #000000;\n",
              "        }    #T_08346ebe_e227_11ea_ad7b_0242ac1c0002row8_col3 {\n",
              "            background-color:  #b5cdfa;\n",
              "            color:  #000000;\n",
              "        }    #T_08346ebe_e227_11ea_ad7b_0242ac1c0002row8_col4 {\n",
              "            background-color:  #97b8ff;\n",
              "            color:  #000000;\n",
              "        }    #T_08346ebe_e227_11ea_ad7b_0242ac1c0002row8_col5 {\n",
              "            background-color:  #7ea1fa;\n",
              "            color:  #000000;\n",
              "        }    #T_08346ebe_e227_11ea_ad7b_0242ac1c0002row8_col6 {\n",
              "            background-color:  #98b9ff;\n",
              "            color:  #000000;\n",
              "        }    #T_08346ebe_e227_11ea_ad7b_0242ac1c0002row8_col7 {\n",
              "            background-color:  #f6a586;\n",
              "            color:  #000000;\n",
              "        }    #T_08346ebe_e227_11ea_ad7b_0242ac1c0002row8_col8 {\n",
              "            background-color:  #b40426;\n",
              "            color:  #f1f1f1;\n",
              "        }    #T_08346ebe_e227_11ea_ad7b_0242ac1c0002row8_col9 {\n",
              "            background-color:  #9abbff;\n",
              "            color:  #000000;\n",
              "        }    #T_08346ebe_e227_11ea_ad7b_0242ac1c0002row9_col0 {\n",
              "            background-color:  #a9c6fd;\n",
              "            color:  #000000;\n",
              "        }    #T_08346ebe_e227_11ea_ad7b_0242ac1c0002row9_col1 {\n",
              "            background-color:  #efcebd;\n",
              "            color:  #000000;\n",
              "        }    #T_08346ebe_e227_11ea_ad7b_0242ac1c0002row9_col2 {\n",
              "            background-color:  #afcafc;\n",
              "            color:  #000000;\n",
              "        }    #T_08346ebe_e227_11ea_ad7b_0242ac1c0002row9_col3 {\n",
              "            background-color:  #8db0fe;\n",
              "            color:  #000000;\n",
              "        }    #T_08346ebe_e227_11ea_ad7b_0242ac1c0002row9_col4 {\n",
              "            background-color:  #86a9fc;\n",
              "            color:  #000000;\n",
              "        }    #T_08346ebe_e227_11ea_ad7b_0242ac1c0002row9_col5 {\n",
              "            background-color:  #7295f4;\n",
              "            color:  #000000;\n",
              "        }    #T_08346ebe_e227_11ea_ad7b_0242ac1c0002row9_col6 {\n",
              "            background-color:  #81a4fb;\n",
              "            color:  #000000;\n",
              "        }    #T_08346ebe_e227_11ea_ad7b_0242ac1c0002row9_col7 {\n",
              "            background-color:  #5673e0;\n",
              "            color:  #000000;\n",
              "        }    #T_08346ebe_e227_11ea_ad7b_0242ac1c0002row9_col8 {\n",
              "            background-color:  #7a9df8;\n",
              "            color:  #000000;\n",
              "        }    #T_08346ebe_e227_11ea_ad7b_0242ac1c0002row9_col9 {\n",
              "            background-color:  #b40426;\n",
              "            color:  #f1f1f1;\n",
              "        }</style><table id=\"T_08346ebe_e227_11ea_ad7b_0242ac1c0002\" ><thead>    <tr>        <th class=\"blank level0\" ></th>        <th class=\"col_heading level0 col0\" >longitude</th>        <th class=\"col_heading level0 col1\" >latitude</th>        <th class=\"col_heading level0 col2\" >housing_median_age</th>        <th class=\"col_heading level0 col3\" >total_rooms</th>        <th class=\"col_heading level0 col4\" >total_bedrooms</th>        <th class=\"col_heading level0 col5\" >population</th>        <th class=\"col_heading level0 col6\" >households</th>        <th class=\"col_heading level0 col7\" >median_income</th>        <th class=\"col_heading level0 col8\" >median_house_value</th>        <th class=\"col_heading level0 col9\" >ocean_proximity</th>    </tr></thead><tbody>\n",
              "                <tr>\n",
              "                        <th id=\"T_08346ebe_e227_11ea_ad7b_0242ac1c0002level0_row0\" class=\"row_heading level0 row0\" >longitude</th>\n",
              "                        <td id=\"T_08346ebe_e227_11ea_ad7b_0242ac1c0002row0_col0\" class=\"data row0 col0\" >1.000000</td>\n",
              "                        <td id=\"T_08346ebe_e227_11ea_ad7b_0242ac1c0002row0_col1\" class=\"data row0 col1\" >-0.924664</td>\n",
              "                        <td id=\"T_08346ebe_e227_11ea_ad7b_0242ac1c0002row0_col2\" class=\"data row0 col2\" >-0.108197</td>\n",
              "                        <td id=\"T_08346ebe_e227_11ea_ad7b_0242ac1c0002row0_col3\" class=\"data row0 col3\" >0.044568</td>\n",
              "                        <td id=\"T_08346ebe_e227_11ea_ad7b_0242ac1c0002row0_col4\" class=\"data row0 col4\" >0.069608</td>\n",
              "                        <td id=\"T_08346ebe_e227_11ea_ad7b_0242ac1c0002row0_col5\" class=\"data row0 col5\" >0.099773</td>\n",
              "                        <td id=\"T_08346ebe_e227_11ea_ad7b_0242ac1c0002row0_col6\" class=\"data row0 col6\" >0.055310</td>\n",
              "                        <td id=\"T_08346ebe_e227_11ea_ad7b_0242ac1c0002row0_col7\" class=\"data row0 col7\" >-0.015176</td>\n",
              "                        <td id=\"T_08346ebe_e227_11ea_ad7b_0242ac1c0002row0_col8\" class=\"data row0 col8\" >-0.045967</td>\n",
              "                        <td id=\"T_08346ebe_e227_11ea_ad7b_0242ac1c0002row0_col9\" class=\"data row0 col9\" >-0.289779</td>\n",
              "            </tr>\n",
              "            <tr>\n",
              "                        <th id=\"T_08346ebe_e227_11ea_ad7b_0242ac1c0002level0_row1\" class=\"row_heading level0 row1\" >latitude</th>\n",
              "                        <td id=\"T_08346ebe_e227_11ea_ad7b_0242ac1c0002row1_col0\" class=\"data row1 col0\" >-0.924664</td>\n",
              "                        <td id=\"T_08346ebe_e227_11ea_ad7b_0242ac1c0002row1_col1\" class=\"data row1 col1\" >1.000000</td>\n",
              "                        <td id=\"T_08346ebe_e227_11ea_ad7b_0242ac1c0002row1_col2\" class=\"data row1 col2\" >0.011173</td>\n",
              "                        <td id=\"T_08346ebe_e227_11ea_ad7b_0242ac1c0002row1_col3\" class=\"data row1 col3\" >-0.036100</td>\n",
              "                        <td id=\"T_08346ebe_e227_11ea_ad7b_0242ac1c0002row1_col4\" class=\"data row1 col4\" >-0.066983</td>\n",
              "                        <td id=\"T_08346ebe_e227_11ea_ad7b_0242ac1c0002row1_col5\" class=\"data row1 col5\" >-0.108785</td>\n",
              "                        <td id=\"T_08346ebe_e227_11ea_ad7b_0242ac1c0002row1_col6\" class=\"data row1 col6\" >-0.071035</td>\n",
              "                        <td id=\"T_08346ebe_e227_11ea_ad7b_0242ac1c0002row1_col7\" class=\"data row1 col7\" >-0.079809</td>\n",
              "                        <td id=\"T_08346ebe_e227_11ea_ad7b_0242ac1c0002row1_col8\" class=\"data row1 col8\" >-0.144160</td>\n",
              "                        <td id=\"T_08346ebe_e227_11ea_ad7b_0242ac1c0002row1_col9\" class=\"data row1 col9\" >0.200974</td>\n",
              "            </tr>\n",
              "            <tr>\n",
              "                        <th id=\"T_08346ebe_e227_11ea_ad7b_0242ac1c0002level0_row2\" class=\"row_heading level0 row2\" >housing_median_age</th>\n",
              "                        <td id=\"T_08346ebe_e227_11ea_ad7b_0242ac1c0002row2_col0\" class=\"data row2 col0\" >-0.108197</td>\n",
              "                        <td id=\"T_08346ebe_e227_11ea_ad7b_0242ac1c0002row2_col1\" class=\"data row2 col1\" >0.011173</td>\n",
              "                        <td id=\"T_08346ebe_e227_11ea_ad7b_0242ac1c0002row2_col2\" class=\"data row2 col2\" >1.000000</td>\n",
              "                        <td id=\"T_08346ebe_e227_11ea_ad7b_0242ac1c0002row2_col3\" class=\"data row2 col3\" >-0.361262</td>\n",
              "                        <td id=\"T_08346ebe_e227_11ea_ad7b_0242ac1c0002row2_col4\" class=\"data row2 col4\" >-0.320451</td>\n",
              "                        <td id=\"T_08346ebe_e227_11ea_ad7b_0242ac1c0002row2_col5\" class=\"data row2 col5\" >-0.296244</td>\n",
              "                        <td id=\"T_08346ebe_e227_11ea_ad7b_0242ac1c0002row2_col6\" class=\"data row2 col6\" >-0.302916</td>\n",
              "                        <td id=\"T_08346ebe_e227_11ea_ad7b_0242ac1c0002row2_col7\" class=\"data row2 col7\" >-0.119034</td>\n",
              "                        <td id=\"T_08346ebe_e227_11ea_ad7b_0242ac1c0002row2_col8\" class=\"data row2 col8\" >0.105623</td>\n",
              "                        <td id=\"T_08346ebe_e227_11ea_ad7b_0242ac1c0002row2_col9\" class=\"data row2 col9\" >0.112468</td>\n",
              "            </tr>\n",
              "            <tr>\n",
              "                        <th id=\"T_08346ebe_e227_11ea_ad7b_0242ac1c0002level0_row3\" class=\"row_heading level0 row3\" >total_rooms</th>\n",
              "                        <td id=\"T_08346ebe_e227_11ea_ad7b_0242ac1c0002row3_col0\" class=\"data row3 col0\" >0.044568</td>\n",
              "                        <td id=\"T_08346ebe_e227_11ea_ad7b_0242ac1c0002row3_col1\" class=\"data row3 col1\" >-0.036100</td>\n",
              "                        <td id=\"T_08346ebe_e227_11ea_ad7b_0242ac1c0002row3_col2\" class=\"data row3 col2\" >-0.361262</td>\n",
              "                        <td id=\"T_08346ebe_e227_11ea_ad7b_0242ac1c0002row3_col3\" class=\"data row3 col3\" >1.000000</td>\n",
              "                        <td id=\"T_08346ebe_e227_11ea_ad7b_0242ac1c0002row3_col4\" class=\"data row3 col4\" >0.930380</td>\n",
              "                        <td id=\"T_08346ebe_e227_11ea_ad7b_0242ac1c0002row3_col5\" class=\"data row3 col5\" >0.857126</td>\n",
              "                        <td id=\"T_08346ebe_e227_11ea_ad7b_0242ac1c0002row3_col6\" class=\"data row3 col6\" >0.918484</td>\n",
              "                        <td id=\"T_08346ebe_e227_11ea_ad7b_0242ac1c0002row3_col7\" class=\"data row3 col7\" >0.198050</td>\n",
              "                        <td id=\"T_08346ebe_e227_11ea_ad7b_0242ac1c0002row3_col8\" class=\"data row3 col8\" >0.134153</td>\n",
              "                        <td id=\"T_08346ebe_e227_11ea_ad7b_0242ac1c0002row3_col9\" class=\"data row3 col9\" >-0.015693</td>\n",
              "            </tr>\n",
              "            <tr>\n",
              "                        <th id=\"T_08346ebe_e227_11ea_ad7b_0242ac1c0002level0_row4\" class=\"row_heading level0 row4\" >total_bedrooms</th>\n",
              "                        <td id=\"T_08346ebe_e227_11ea_ad7b_0242ac1c0002row4_col0\" class=\"data row4 col0\" >0.069608</td>\n",
              "                        <td id=\"T_08346ebe_e227_11ea_ad7b_0242ac1c0002row4_col1\" class=\"data row4 col1\" >-0.066983</td>\n",
              "                        <td id=\"T_08346ebe_e227_11ea_ad7b_0242ac1c0002row4_col2\" class=\"data row4 col2\" >-0.320451</td>\n",
              "                        <td id=\"T_08346ebe_e227_11ea_ad7b_0242ac1c0002row4_col3\" class=\"data row4 col3\" >0.930380</td>\n",
              "                        <td id=\"T_08346ebe_e227_11ea_ad7b_0242ac1c0002row4_col4\" class=\"data row4 col4\" >1.000000</td>\n",
              "                        <td id=\"T_08346ebe_e227_11ea_ad7b_0242ac1c0002row4_col5\" class=\"data row4 col5\" >0.877747</td>\n",
              "                        <td id=\"T_08346ebe_e227_11ea_ad7b_0242ac1c0002row4_col6\" class=\"data row4 col6\" >0.979728</td>\n",
              "                        <td id=\"T_08346ebe_e227_11ea_ad7b_0242ac1c0002row4_col7\" class=\"data row4 col7\" >-0.007723</td>\n",
              "                        <td id=\"T_08346ebe_e227_11ea_ad7b_0242ac1c0002row4_col8\" class=\"data row4 col8\" >0.049686</td>\n",
              "                        <td id=\"T_08346ebe_e227_11ea_ad7b_0242ac1c0002row4_col9\" class=\"data row4 col9\" >-0.014768</td>\n",
              "            </tr>\n",
              "            <tr>\n",
              "                        <th id=\"T_08346ebe_e227_11ea_ad7b_0242ac1c0002level0_row5\" class=\"row_heading level0 row5\" >population</th>\n",
              "                        <td id=\"T_08346ebe_e227_11ea_ad7b_0242ac1c0002row5_col0\" class=\"data row5 col0\" >0.099773</td>\n",
              "                        <td id=\"T_08346ebe_e227_11ea_ad7b_0242ac1c0002row5_col1\" class=\"data row5 col1\" >-0.108785</td>\n",
              "                        <td id=\"T_08346ebe_e227_11ea_ad7b_0242ac1c0002row5_col2\" class=\"data row5 col2\" >-0.296244</td>\n",
              "                        <td id=\"T_08346ebe_e227_11ea_ad7b_0242ac1c0002row5_col3\" class=\"data row5 col3\" >0.857126</td>\n",
              "                        <td id=\"T_08346ebe_e227_11ea_ad7b_0242ac1c0002row5_col4\" class=\"data row5 col4\" >0.877747</td>\n",
              "                        <td id=\"T_08346ebe_e227_11ea_ad7b_0242ac1c0002row5_col5\" class=\"data row5 col5\" >1.000000</td>\n",
              "                        <td id=\"T_08346ebe_e227_11ea_ad7b_0242ac1c0002row5_col6\" class=\"data row5 col6\" >0.907222</td>\n",
              "                        <td id=\"T_08346ebe_e227_11ea_ad7b_0242ac1c0002row5_col7\" class=\"data row5 col7\" >0.004834</td>\n",
              "                        <td id=\"T_08346ebe_e227_11ea_ad7b_0242ac1c0002row5_col8\" class=\"data row5 col8\" >-0.024650</td>\n",
              "                        <td id=\"T_08346ebe_e227_11ea_ad7b_0242ac1c0002row5_col9\" class=\"data row5 col9\" >-0.070282</td>\n",
              "            </tr>\n",
              "            <tr>\n",
              "                        <th id=\"T_08346ebe_e227_11ea_ad7b_0242ac1c0002level0_row6\" class=\"row_heading level0 row6\" >households</th>\n",
              "                        <td id=\"T_08346ebe_e227_11ea_ad7b_0242ac1c0002row6_col0\" class=\"data row6 col0\" >0.055310</td>\n",
              "                        <td id=\"T_08346ebe_e227_11ea_ad7b_0242ac1c0002row6_col1\" class=\"data row6 col1\" >-0.071035</td>\n",
              "                        <td id=\"T_08346ebe_e227_11ea_ad7b_0242ac1c0002row6_col2\" class=\"data row6 col2\" >-0.302916</td>\n",
              "                        <td id=\"T_08346ebe_e227_11ea_ad7b_0242ac1c0002row6_col3\" class=\"data row6 col3\" >0.918484</td>\n",
              "                        <td id=\"T_08346ebe_e227_11ea_ad7b_0242ac1c0002row6_col4\" class=\"data row6 col4\" >0.979728</td>\n",
              "                        <td id=\"T_08346ebe_e227_11ea_ad7b_0242ac1c0002row6_col5\" class=\"data row6 col5\" >0.907222</td>\n",
              "                        <td id=\"T_08346ebe_e227_11ea_ad7b_0242ac1c0002row6_col6\" class=\"data row6 col6\" >1.000000</td>\n",
              "                        <td id=\"T_08346ebe_e227_11ea_ad7b_0242ac1c0002row6_col7\" class=\"data row6 col7\" >0.013033</td>\n",
              "                        <td id=\"T_08346ebe_e227_11ea_ad7b_0242ac1c0002row6_col8\" class=\"data row6 col8\" >0.065843</td>\n",
              "                        <td id=\"T_08346ebe_e227_11ea_ad7b_0242ac1c0002row6_col9\" class=\"data row6 col9\" >-0.018186</td>\n",
              "            </tr>\n",
              "            <tr>\n",
              "                        <th id=\"T_08346ebe_e227_11ea_ad7b_0242ac1c0002level0_row7\" class=\"row_heading level0 row7\" >median_income</th>\n",
              "                        <td id=\"T_08346ebe_e227_11ea_ad7b_0242ac1c0002row7_col0\" class=\"data row7 col0\" >-0.015176</td>\n",
              "                        <td id=\"T_08346ebe_e227_11ea_ad7b_0242ac1c0002row7_col1\" class=\"data row7 col1\" >-0.079809</td>\n",
              "                        <td id=\"T_08346ebe_e227_11ea_ad7b_0242ac1c0002row7_col2\" class=\"data row7 col2\" >-0.119034</td>\n",
              "                        <td id=\"T_08346ebe_e227_11ea_ad7b_0242ac1c0002row7_col3\" class=\"data row7 col3\" >0.198050</td>\n",
              "                        <td id=\"T_08346ebe_e227_11ea_ad7b_0242ac1c0002row7_col4\" class=\"data row7 col4\" >-0.007723</td>\n",
              "                        <td id=\"T_08346ebe_e227_11ea_ad7b_0242ac1c0002row7_col5\" class=\"data row7 col5\" >0.004834</td>\n",
              "                        <td id=\"T_08346ebe_e227_11ea_ad7b_0242ac1c0002row7_col6\" class=\"data row7 col6\" >0.013033</td>\n",
              "                        <td id=\"T_08346ebe_e227_11ea_ad7b_0242ac1c0002row7_col7\" class=\"data row7 col7\" >1.000000</td>\n",
              "                        <td id=\"T_08346ebe_e227_11ea_ad7b_0242ac1c0002row7_col8\" class=\"data row7 col8\" >0.688075</td>\n",
              "                        <td id=\"T_08346ebe_e227_11ea_ad7b_0242ac1c0002row7_col9\" class=\"data row7 col9\" >-0.014957</td>\n",
              "            </tr>\n",
              "            <tr>\n",
              "                        <th id=\"T_08346ebe_e227_11ea_ad7b_0242ac1c0002level0_row8\" class=\"row_heading level0 row8\" >median_house_value</th>\n",
              "                        <td id=\"T_08346ebe_e227_11ea_ad7b_0242ac1c0002row8_col0\" class=\"data row8 col0\" >-0.045967</td>\n",
              "                        <td id=\"T_08346ebe_e227_11ea_ad7b_0242ac1c0002row8_col1\" class=\"data row8 col1\" >-0.144160</td>\n",
              "                        <td id=\"T_08346ebe_e227_11ea_ad7b_0242ac1c0002row8_col2\" class=\"data row8 col2\" >0.105623</td>\n",
              "                        <td id=\"T_08346ebe_e227_11ea_ad7b_0242ac1c0002row8_col3\" class=\"data row8 col3\" >0.134153</td>\n",
              "                        <td id=\"T_08346ebe_e227_11ea_ad7b_0242ac1c0002row8_col4\" class=\"data row8 col4\" >0.049686</td>\n",
              "                        <td id=\"T_08346ebe_e227_11ea_ad7b_0242ac1c0002row8_col5\" class=\"data row8 col5\" >-0.024650</td>\n",
              "                        <td id=\"T_08346ebe_e227_11ea_ad7b_0242ac1c0002row8_col6\" class=\"data row8 col6\" >0.065843</td>\n",
              "                        <td id=\"T_08346ebe_e227_11ea_ad7b_0242ac1c0002row8_col7\" class=\"data row8 col7\" >0.688075</td>\n",
              "                        <td id=\"T_08346ebe_e227_11ea_ad7b_0242ac1c0002row8_col8\" class=\"data row8 col8\" >1.000000</td>\n",
              "                        <td id=\"T_08346ebe_e227_11ea_ad7b_0242ac1c0002row8_col9\" class=\"data row8 col9\" >0.081750</td>\n",
              "            </tr>\n",
              "            <tr>\n",
              "                        <th id=\"T_08346ebe_e227_11ea_ad7b_0242ac1c0002level0_row9\" class=\"row_heading level0 row9\" >ocean_proximity</th>\n",
              "                        <td id=\"T_08346ebe_e227_11ea_ad7b_0242ac1c0002row9_col0\" class=\"data row9 col0\" >-0.289779</td>\n",
              "                        <td id=\"T_08346ebe_e227_11ea_ad7b_0242ac1c0002row9_col1\" class=\"data row9 col1\" >0.200974</td>\n",
              "                        <td id=\"T_08346ebe_e227_11ea_ad7b_0242ac1c0002row9_col2\" class=\"data row9 col2\" >0.112468</td>\n",
              "                        <td id=\"T_08346ebe_e227_11ea_ad7b_0242ac1c0002row9_col3\" class=\"data row9 col3\" >-0.015693</td>\n",
              "                        <td id=\"T_08346ebe_e227_11ea_ad7b_0242ac1c0002row9_col4\" class=\"data row9 col4\" >-0.014768</td>\n",
              "                        <td id=\"T_08346ebe_e227_11ea_ad7b_0242ac1c0002row9_col5\" class=\"data row9 col5\" >-0.070282</td>\n",
              "                        <td id=\"T_08346ebe_e227_11ea_ad7b_0242ac1c0002row9_col6\" class=\"data row9 col6\" >-0.018186</td>\n",
              "                        <td id=\"T_08346ebe_e227_11ea_ad7b_0242ac1c0002row9_col7\" class=\"data row9 col7\" >-0.014957</td>\n",
              "                        <td id=\"T_08346ebe_e227_11ea_ad7b_0242ac1c0002row9_col8\" class=\"data row9 col8\" >0.081750</td>\n",
              "                        <td id=\"T_08346ebe_e227_11ea_ad7b_0242ac1c0002row9_col9\" class=\"data row9 col9\" >1.000000</td>\n",
              "            </tr>\n",
              "    </tbody></table>"
            ],
            "text/plain": [
              "<pandas.io.formats.style.Styler at 0x7feec0d6c4e0>"
            ]
          },
          "metadata": {
            "tags": []
          },
          "execution_count": 29
        }
      ]
    },
    {
      "cell_type": "code",
      "metadata": {
        "id": "QT2E7CyRPOjx",
        "colab_type": "code",
        "colab": {
          "base_uri": "https://localhost:8080/",
          "height": 84
        },
        "outputId": "141316a7-e27c-4500-caa6-a0a1485313b1"
      },
      "source": [
        "df.columns\n"
      ],
      "execution_count": null,
      "outputs": [
        {
          "output_type": "execute_result",
          "data": {
            "text/plain": [
              "Index(['longitude', 'latitude', 'housing_median_age', 'total_rooms',\n",
              "       'total_bedrooms', 'population', 'households', 'median_income',\n",
              "       'median_house_value', 'ocean_proximity'],\n",
              "      dtype='object')"
            ]
          },
          "metadata": {
            "tags": []
          },
          "execution_count": 18
        }
      ]
    },
    {
      "cell_type": "code",
      "metadata": {
        "id": "F9bxx9jDPYah",
        "colab_type": "code",
        "colab": {}
      },
      "source": [
        "df = df[['longitude', 'latitude', 'housing_median_age', 'total_rooms',\n",
        "       'total_bedrooms', 'population', 'households', 'median_income',\n",
        "       'median_house_value', 'ocean_proximity', 'proximity_0', 'proximity_1',\n",
        "       'proximity_2', 'proximity_3', 'proximity_4']]"
      ],
      "execution_count": null,
      "outputs": []
    },
    {
      "cell_type": "code",
      "metadata": {
        "id": "-ggqCq5tTdZA",
        "colab_type": "code",
        "colab": {}
      },
      "source": [
        "df2=df[['housing_median_age', 'total_rooms',\n",
        "       'total_bedrooms', 'households',\n",
        "       'median_house_value', 'ocean_proximity']]"
      ],
      "execution_count": null,
      "outputs": []
    },
    {
      "cell_type": "code",
      "metadata": {
        "id": "K-P7D9_dB9p-",
        "colab_type": "code",
        "colab": {}
      },
      "source": [
        "#split data into training and testing data\n",
        "from sklearn.model_selection import train_test_split\n",
        "\n",
        "X = df.drop('median_house_value', axis=1)\n",
        "X= X.fillna(X.mean())\n",
        "y = df['median_house_value']\n",
        "\n",
        "\n",
        "original_Xtrain, original_Xtest, original_ytrain, original_ytest = train_test_split(X, y, test_size=0.2, random_state=42)"
      ],
      "execution_count": null,
      "outputs": []
    },
    {
      "cell_type": "code",
      "metadata": {
        "id": "OlRDhX-dlx5v",
        "colab_type": "code",
        "colab": {}
      },
      "source": [
        "from google.colab import drive\n",
        "drive.mount('/content/drive')"
      ],
      "execution_count": null,
      "outputs": []
    },
    {
      "cell_type": "code",
      "metadata": {
        "id": "YA0_KnPyjmIr",
        "colab_type": "code",
        "colab": {
          "base_uri": "https://localhost:8080/",
          "height": 34
        },
        "outputId": "060e8b0d-9de6-42c6-ed2f-fda0edbc4f7b"
      },
      "source": [
        "from sklearn.tree import DecisionTreeRegressor\n",
        "dtr= DecisionTreeRegressor(random_state=0)\n",
        "\n",
        "dtr.fit(original_Xtrain, original_ytrain)\n",
        "pred = dtr.predict(original_Xtest)\n",
        "\n",
        "print(r2_score (original_ytest, pred))\n"
      ],
      "execution_count": null,
      "outputs": [
        {
          "output_type": "stream",
          "text": [
            "0.6341127242906294\n"
          ],
          "name": "stdout"
        }
      ]
    },
    {
      "cell_type": "code",
      "metadata": {
        "id": "ZAF7J6i-HBQI",
        "colab_type": "code",
        "colab": {
          "base_uri": "https://localhost:8080/",
          "height": 195
        },
        "outputId": "28325fc3-d325-4b20-da2f-fc403d048466"
      },
      "source": [
        "from sklearn.metrics import mean_squared_error,r2_score\n",
        "\n",
        "r2_score(original_ytest.to_numpy(), pred)"
      ],
      "execution_count": null,
      "outputs": [
        {
          "output_type": "error",
          "ename": "NameError",
          "evalue": "ignored",
          "traceback": [
            "\u001b[0;31m---------------------------------------------------------------------------\u001b[0m",
            "\u001b[0;31mNameError\u001b[0m                                 Traceback (most recent call last)",
            "\u001b[0;32m<ipython-input-28-c764d69439d1>\u001b[0m in \u001b[0;36m<module>\u001b[0;34m()\u001b[0m\n\u001b[1;32m      1\u001b[0m \u001b[0;32mfrom\u001b[0m \u001b[0msklearn\u001b[0m\u001b[0;34m.\u001b[0m\u001b[0mmetrics\u001b[0m \u001b[0;32mimport\u001b[0m \u001b[0mmean_squared_error\u001b[0m\u001b[0;34m,\u001b[0m\u001b[0mr2_score\u001b[0m\u001b[0;34m\u001b[0m\u001b[0;34m\u001b[0m\u001b[0m\n\u001b[1;32m      2\u001b[0m \u001b[0;34m\u001b[0m\u001b[0m\n\u001b[0;32m----> 3\u001b[0;31m \u001b[0mr2_score\u001b[0m\u001b[0;34m(\u001b[0m\u001b[0moriginal_ytest\u001b[0m\u001b[0;34m.\u001b[0m\u001b[0mto_numpy\u001b[0m\u001b[0;34m(\u001b[0m\u001b[0;34m)\u001b[0m\u001b[0;34m,\u001b[0m \u001b[0mpred\u001b[0m\u001b[0;34m)\u001b[0m\u001b[0;34m\u001b[0m\u001b[0;34m\u001b[0m\u001b[0m\n\u001b[0m",
            "\u001b[0;31mNameError\u001b[0m: name 'pred' is not defined"
          ]
        }
      ]
    },
    {
      "cell_type": "code",
      "metadata": {
        "id": "YVszMBt9eE5G",
        "colab_type": "code",
        "colab": {
          "base_uri": "https://localhost:8080/",
          "height": 283
        },
        "outputId": "98a00d08-07aa-4f8c-e9f5-1fd1810ff657"
      },
      "source": [
        "plt.plot(original_ytest, pred, '.')"
      ],
      "execution_count": null,
      "outputs": [
        {
          "output_type": "execute_result",
          "data": {
            "text/plain": [
              "[<matplotlib.lines.Line2D at 0x7feeb4b53438>]"
            ]
          },
          "metadata": {
            "tags": []
          },
          "execution_count": 81
        },
        {
          "output_type": "display_data",
          "data": {
            "image/png": "[encoded data removed]",
            "text/plain": [
              "<Figure size 432x288 with 1 Axes>"
            ]
          },
          "metadata": {
            "tags": [],
            "needs_background": "light"
          }
        }
      ]
    },
    {
      "cell_type": "code",
      "metadata": {
        "id": "Jkb3SAVXjbco",
        "colab_type": "code",
        "colab": {}
      },
      "source": [
        ""
      ],
      "execution_count": null,
      "outputs": []
    }
  ]
}